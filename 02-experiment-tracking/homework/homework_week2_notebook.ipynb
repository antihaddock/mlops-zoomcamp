{
 "cells": [
  {
   "cell_type": "markdown",
   "metadata": {},
   "source": [
    "Homework Week 2\n",
    "Written by Ryan Gallagher\n",
    "Date 29/5/22"
   ]
  },
  {
   "cell_type": "markdown",
   "metadata": {},
   "source": []
  },
  {
   "cell_type": "code",
   "execution_count": null,
   "metadata": {},
   "outputs": [],
   "source": []
  },
  {
   "cell_type": "code",
   "execution_count": null,
   "metadata": {},
   "outputs": [],
   "source": [
    "import pandas\n"
   ]
  },
  {
   "cell_type": "code",
   "execution_count": 1,
   "metadata": {},
   "outputs": [
    {
     "name": "stdout",
     "output_type": "stream",
     "text": [
      "1.26.0\n"
     ]
    }
   ],
   "source": [
    "# Question 2 download and preprocess the data\n",
    "# - already downloaded and ./Data file\n",
    "import mlflow\n",
    "print(mlflow.__version__)"
   ]
  },
  {
   "cell_type": "code",
   "execution_count": 3,
   "metadata": {},
   "outputs": [],
   "source": [
    "import pickle\n",
    "def load_pickle(filename: str):\n",
    "    with open(filename, \"rb\") as f_in:\n",
    "        return pickle.load(f_in)\n",
    "\n"
   ]
  },
  {
   "cell_type": "code",
   "execution_count": 5,
   "metadata": {},
   "outputs": [
    {
     "data": {
      "text/plain": [
       "(<73908x13221 sparse matrix of type '<class 'numpy.float64'>'\n",
       " \twith 147816 stored elements in Compressed Sparse Row format>,\n",
       " array([ 3.93333333,  8.75      ,  5.96666667, ..., 11.        ,\n",
       "        27.        , 10.        ]))"
      ]
     },
     "execution_count": 5,
     "metadata": {},
     "output_type": "execute_result"
    }
   ],
   "source": [
    "data_path = '/home/antihaddock/mlops-zoomcamp/02-experiment-tracking/homework/output'\n",
    "\n",
    "load_pickle(os.path.join(data_path, \"train.pkl\"))"
   ]
  }
 ],
 "metadata": {
  "interpreter": {
   "hash": "9bd58ad161890249fb153fdbf6a4e74b4e2fd5f7abffb7322f338ec5a68bb15e"
  },
  "kernelspec": {
   "display_name": "Python 3.9.12 ('exp_tracking-env')",
   "language": "python",
   "name": "python3"
  },
  "language_info": {
   "codemirror_mode": {
    "name": "ipython",
    "version": 3
   },
   "file_extension": ".py",
   "mimetype": "text/x-python",
   "name": "python",
   "nbconvert_exporter": "python",
   "pygments_lexer": "ipython3",
   "version": "3.9.12"
  },
  "orig_nbformat": 4
 },
 "nbformat": 4,
 "nbformat_minor": 2
}
